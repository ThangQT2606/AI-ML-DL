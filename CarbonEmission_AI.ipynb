{
 "cells": [
  {
   "cell_type": "code",
   "execution_count": 1,
   "metadata": {},
   "outputs": [],
   "source": [
    "import pandas as pd\n",
    "import numpy as np \n",
    "import matplotlib.pyplot as plt "
   ]
  },
  {
   "cell_type": "code",
   "execution_count": 2,
   "metadata": {},
   "outputs": [],
   "source": [
    "df = pd.read_csv(\"Carbon Emission.csv\")"
   ]
  },
  {
   "cell_type": "code",
   "execution_count": 3,
   "metadata": {},
   "outputs": [
    {
     "name": "stdout",
     "output_type": "stream",
     "text": [
      "<class 'pandas.core.frame.DataFrame'>\n",
      "RangeIndex: 10000 entries, 0 to 9999\n",
      "Data columns (total 20 columns):\n",
      " #   Column                         Non-Null Count  Dtype \n",
      "---  ------                         --------------  ----- \n",
      " 0   Body Type                      10000 non-null  object\n",
      " 1   Sex                            10000 non-null  object\n",
      " 2   Diet                           10000 non-null  object\n",
      " 3   How Often Shower               10000 non-null  object\n",
      " 4   Heating Energy Source          10000 non-null  object\n",
      " 5   Transport                      10000 non-null  object\n",
      " 6   Vehicle Type                   3279 non-null   object\n",
      " 7   Social Activity                10000 non-null  object\n",
      " 8   Monthly Grocery Bill           10000 non-null  int64 \n",
      " 9   Frequency of Traveling by Air  10000 non-null  object\n",
      " 10  Vehicle Monthly Distance Km    10000 non-null  int64 \n",
      " 11  Waste Bag Size                 10000 non-null  object\n",
      " 12  Waste Bag Weekly Count         10000 non-null  int64 \n",
      " 13  How Long TV PC Daily Hour      10000 non-null  int64 \n",
      " 14  How Many New Clothes Monthly   10000 non-null  int64 \n",
      " 15  How Long Internet Daily Hour   10000 non-null  int64 \n",
      " 16  Energy efficiency              10000 non-null  object\n",
      " 17  Recycling                      10000 non-null  object\n",
      " 18  Cooking_With                   10000 non-null  object\n",
      " 19  CarbonEmission                 10000 non-null  int64 \n",
      "dtypes: int64(7), object(13)\n",
      "memory usage: 1.5+ MB\n"
     ]
    }
   ],
   "source": [
    "df.info()"
   ]
  },
  {
   "cell_type": "code",
   "execution_count": 4,
   "metadata": {},
   "outputs": [
    {
     "data": {
      "text/html": [
       "<div>\n",
       "<style scoped>\n",
       "    .dataframe tbody tr th:only-of-type {\n",
       "        vertical-align: middle;\n",
       "    }\n",
       "\n",
       "    .dataframe tbody tr th {\n",
       "        vertical-align: top;\n",
       "    }\n",
       "\n",
       "    .dataframe thead th {\n",
       "        text-align: right;\n",
       "    }\n",
       "</style>\n",
       "<table border=\"1\" class=\"dataframe\">\n",
       "  <thead>\n",
       "    <tr style=\"text-align: right;\">\n",
       "      <th></th>\n",
       "      <th>Body Type</th>\n",
       "      <th>Sex</th>\n",
       "      <th>Diet</th>\n",
       "      <th>How Often Shower</th>\n",
       "      <th>Heating Energy Source</th>\n",
       "      <th>Transport</th>\n",
       "      <th>Vehicle Type</th>\n",
       "      <th>Social Activity</th>\n",
       "      <th>Monthly Grocery Bill</th>\n",
       "      <th>Frequency of Traveling by Air</th>\n",
       "      <th>Vehicle Monthly Distance Km</th>\n",
       "      <th>Waste Bag Size</th>\n",
       "      <th>Waste Bag Weekly Count</th>\n",
       "      <th>How Long TV PC Daily Hour</th>\n",
       "      <th>How Many New Clothes Monthly</th>\n",
       "      <th>How Long Internet Daily Hour</th>\n",
       "      <th>Energy efficiency</th>\n",
       "      <th>Recycling</th>\n",
       "      <th>Cooking_With</th>\n",
       "      <th>CarbonEmission</th>\n",
       "    </tr>\n",
       "  </thead>\n",
       "  <tbody>\n",
       "    <tr>\n",
       "      <th>0</th>\n",
       "      <td>overweight</td>\n",
       "      <td>female</td>\n",
       "      <td>pescatarian</td>\n",
       "      <td>daily</td>\n",
       "      <td>coal</td>\n",
       "      <td>public</td>\n",
       "      <td>NaN</td>\n",
       "      <td>often</td>\n",
       "      <td>230</td>\n",
       "      <td>frequently</td>\n",
       "      <td>210</td>\n",
       "      <td>large</td>\n",
       "      <td>4</td>\n",
       "      <td>7</td>\n",
       "      <td>26</td>\n",
       "      <td>1</td>\n",
       "      <td>No</td>\n",
       "      <td>['Metal']</td>\n",
       "      <td>['Stove', 'Oven']</td>\n",
       "      <td>2238</td>\n",
       "    </tr>\n",
       "    <tr>\n",
       "      <th>1</th>\n",
       "      <td>obese</td>\n",
       "      <td>female</td>\n",
       "      <td>vegetarian</td>\n",
       "      <td>less frequently</td>\n",
       "      <td>natural gas</td>\n",
       "      <td>walk/bicycle</td>\n",
       "      <td>NaN</td>\n",
       "      <td>often</td>\n",
       "      <td>114</td>\n",
       "      <td>rarely</td>\n",
       "      <td>9</td>\n",
       "      <td>extra large</td>\n",
       "      <td>3</td>\n",
       "      <td>9</td>\n",
       "      <td>38</td>\n",
       "      <td>5</td>\n",
       "      <td>No</td>\n",
       "      <td>['Metal']</td>\n",
       "      <td>['Stove', 'Microwave']</td>\n",
       "      <td>1892</td>\n",
       "    </tr>\n",
       "    <tr>\n",
       "      <th>2</th>\n",
       "      <td>overweight</td>\n",
       "      <td>male</td>\n",
       "      <td>omnivore</td>\n",
       "      <td>more frequently</td>\n",
       "      <td>wood</td>\n",
       "      <td>private</td>\n",
       "      <td>petrol</td>\n",
       "      <td>never</td>\n",
       "      <td>138</td>\n",
       "      <td>never</td>\n",
       "      <td>2472</td>\n",
       "      <td>small</td>\n",
       "      <td>1</td>\n",
       "      <td>14</td>\n",
       "      <td>47</td>\n",
       "      <td>6</td>\n",
       "      <td>Sometimes</td>\n",
       "      <td>['Metal']</td>\n",
       "      <td>['Oven', 'Microwave']</td>\n",
       "      <td>2595</td>\n",
       "    </tr>\n",
       "    <tr>\n",
       "      <th>3</th>\n",
       "      <td>overweight</td>\n",
       "      <td>male</td>\n",
       "      <td>omnivore</td>\n",
       "      <td>twice a day</td>\n",
       "      <td>wood</td>\n",
       "      <td>walk/bicycle</td>\n",
       "      <td>NaN</td>\n",
       "      <td>sometimes</td>\n",
       "      <td>157</td>\n",
       "      <td>rarely</td>\n",
       "      <td>74</td>\n",
       "      <td>medium</td>\n",
       "      <td>3</td>\n",
       "      <td>20</td>\n",
       "      <td>5</td>\n",
       "      <td>7</td>\n",
       "      <td>Sometimes</td>\n",
       "      <td>['Paper', 'Plastic', 'Glass', 'Metal']</td>\n",
       "      <td>['Microwave', 'Grill', 'Airfryer']</td>\n",
       "      <td>1074</td>\n",
       "    </tr>\n",
       "    <tr>\n",
       "      <th>4</th>\n",
       "      <td>obese</td>\n",
       "      <td>female</td>\n",
       "      <td>vegetarian</td>\n",
       "      <td>daily</td>\n",
       "      <td>coal</td>\n",
       "      <td>private</td>\n",
       "      <td>diesel</td>\n",
       "      <td>often</td>\n",
       "      <td>266</td>\n",
       "      <td>very frequently</td>\n",
       "      <td>8457</td>\n",
       "      <td>large</td>\n",
       "      <td>1</td>\n",
       "      <td>3</td>\n",
       "      <td>5</td>\n",
       "      <td>6</td>\n",
       "      <td>Yes</td>\n",
       "      <td>['Paper']</td>\n",
       "      <td>['Oven']</td>\n",
       "      <td>4743</td>\n",
       "    </tr>\n",
       "    <tr>\n",
       "      <th>...</th>\n",
       "      <td>...</td>\n",
       "      <td>...</td>\n",
       "      <td>...</td>\n",
       "      <td>...</td>\n",
       "      <td>...</td>\n",
       "      <td>...</td>\n",
       "      <td>...</td>\n",
       "      <td>...</td>\n",
       "      <td>...</td>\n",
       "      <td>...</td>\n",
       "      <td>...</td>\n",
       "      <td>...</td>\n",
       "      <td>...</td>\n",
       "      <td>...</td>\n",
       "      <td>...</td>\n",
       "      <td>...</td>\n",
       "      <td>...</td>\n",
       "      <td>...</td>\n",
       "      <td>...</td>\n",
       "      <td>...</td>\n",
       "    </tr>\n",
       "    <tr>\n",
       "      <th>9995</th>\n",
       "      <td>obese</td>\n",
       "      <td>male</td>\n",
       "      <td>omnivore</td>\n",
       "      <td>twice a day</td>\n",
       "      <td>coal</td>\n",
       "      <td>private</td>\n",
       "      <td>hybrid</td>\n",
       "      <td>sometimes</td>\n",
       "      <td>230</td>\n",
       "      <td>never</td>\n",
       "      <td>268</td>\n",
       "      <td>medium</td>\n",
       "      <td>5</td>\n",
       "      <td>12</td>\n",
       "      <td>27</td>\n",
       "      <td>9</td>\n",
       "      <td>Yes</td>\n",
       "      <td>[]</td>\n",
       "      <td>['Microwave']</td>\n",
       "      <td>2408</td>\n",
       "    </tr>\n",
       "    <tr>\n",
       "      <th>9996</th>\n",
       "      <td>normal</td>\n",
       "      <td>female</td>\n",
       "      <td>vegan</td>\n",
       "      <td>twice a day</td>\n",
       "      <td>coal</td>\n",
       "      <td>private</td>\n",
       "      <td>lpg</td>\n",
       "      <td>never</td>\n",
       "      <td>234</td>\n",
       "      <td>frequently</td>\n",
       "      <td>5316</td>\n",
       "      <td>extra large</td>\n",
       "      <td>3</td>\n",
       "      <td>14</td>\n",
       "      <td>8</td>\n",
       "      <td>24</td>\n",
       "      <td>Sometimes</td>\n",
       "      <td>['Paper', 'Plastic']</td>\n",
       "      <td>['Stove', 'Microwave']</td>\n",
       "      <td>3084</td>\n",
       "    </tr>\n",
       "    <tr>\n",
       "      <th>9997</th>\n",
       "      <td>overweight</td>\n",
       "      <td>female</td>\n",
       "      <td>vegetarian</td>\n",
       "      <td>daily</td>\n",
       "      <td>electricity</td>\n",
       "      <td>walk/bicycle</td>\n",
       "      <td>NaN</td>\n",
       "      <td>sometimes</td>\n",
       "      <td>298</td>\n",
       "      <td>very frequently</td>\n",
       "      <td>96</td>\n",
       "      <td>extra large</td>\n",
       "      <td>5</td>\n",
       "      <td>11</td>\n",
       "      <td>5</td>\n",
       "      <td>24</td>\n",
       "      <td>Yes</td>\n",
       "      <td>['Paper', 'Plastic', 'Metal']</td>\n",
       "      <td>['Microwave', 'Grill', 'Airfryer']</td>\n",
       "      <td>2377</td>\n",
       "    </tr>\n",
       "    <tr>\n",
       "      <th>9998</th>\n",
       "      <td>underweight</td>\n",
       "      <td>male</td>\n",
       "      <td>vegan</td>\n",
       "      <td>more frequently</td>\n",
       "      <td>coal</td>\n",
       "      <td>private</td>\n",
       "      <td>petrol</td>\n",
       "      <td>often</td>\n",
       "      <td>179</td>\n",
       "      <td>rarely</td>\n",
       "      <td>8688</td>\n",
       "      <td>medium</td>\n",
       "      <td>5</td>\n",
       "      <td>19</td>\n",
       "      <td>14</td>\n",
       "      <td>5</td>\n",
       "      <td>Sometimes</td>\n",
       "      <td>['Paper', 'Metal']</td>\n",
       "      <td>['Stove', 'Microwave', 'Grill', 'Airfryer']</td>\n",
       "      <td>4574</td>\n",
       "    </tr>\n",
       "    <tr>\n",
       "      <th>9999</th>\n",
       "      <td>obese</td>\n",
       "      <td>male</td>\n",
       "      <td>pescatarian</td>\n",
       "      <td>twice a day</td>\n",
       "      <td>wood</td>\n",
       "      <td>private</td>\n",
       "      <td>electric</td>\n",
       "      <td>sometimes</td>\n",
       "      <td>115</td>\n",
       "      <td>never</td>\n",
       "      <td>9952</td>\n",
       "      <td>small</td>\n",
       "      <td>4</td>\n",
       "      <td>11</td>\n",
       "      <td>6</td>\n",
       "      <td>0</td>\n",
       "      <td>Sometimes</td>\n",
       "      <td>['Plastic', 'Glass', 'Metal']</td>\n",
       "      <td>['Oven', 'Grill', 'Airfryer']</td>\n",
       "      <td>826</td>\n",
       "    </tr>\n",
       "  </tbody>\n",
       "</table>\n",
       "<p>10000 rows × 20 columns</p>\n",
       "</div>"
      ],
      "text/plain": [
       "        Body Type     Sex         Diet How Often Shower Heating Energy Source  \\\n",
       "0      overweight  female  pescatarian            daily                  coal   \n",
       "1           obese  female   vegetarian  less frequently           natural gas   \n",
       "2      overweight    male     omnivore  more frequently                  wood   \n",
       "3      overweight    male     omnivore      twice a day                  wood   \n",
       "4           obese  female   vegetarian            daily                  coal   \n",
       "...           ...     ...          ...              ...                   ...   \n",
       "9995        obese    male     omnivore      twice a day                  coal   \n",
       "9996       normal  female        vegan      twice a day                  coal   \n",
       "9997   overweight  female   vegetarian            daily           electricity   \n",
       "9998  underweight    male        vegan  more frequently                  coal   \n",
       "9999        obese    male  pescatarian      twice a day                  wood   \n",
       "\n",
       "         Transport Vehicle Type Social Activity  Monthly Grocery Bill  \\\n",
       "0           public          NaN           often                   230   \n",
       "1     walk/bicycle          NaN           often                   114   \n",
       "2          private       petrol           never                   138   \n",
       "3     walk/bicycle          NaN       sometimes                   157   \n",
       "4          private       diesel           often                   266   \n",
       "...            ...          ...             ...                   ...   \n",
       "9995       private       hybrid       sometimes                   230   \n",
       "9996       private          lpg           never                   234   \n",
       "9997  walk/bicycle          NaN       sometimes                   298   \n",
       "9998       private       petrol           often                   179   \n",
       "9999       private     electric       sometimes                   115   \n",
       "\n",
       "     Frequency of Traveling by Air  Vehicle Monthly Distance Km  \\\n",
       "0                       frequently                          210   \n",
       "1                           rarely                            9   \n",
       "2                            never                         2472   \n",
       "3                           rarely                           74   \n",
       "4                  very frequently                         8457   \n",
       "...                            ...                          ...   \n",
       "9995                         never                          268   \n",
       "9996                    frequently                         5316   \n",
       "9997               very frequently                           96   \n",
       "9998                        rarely                         8688   \n",
       "9999                         never                         9952   \n",
       "\n",
       "     Waste Bag Size  Waste Bag Weekly Count  How Long TV PC Daily Hour  \\\n",
       "0             large                       4                          7   \n",
       "1       extra large                       3                          9   \n",
       "2             small                       1                         14   \n",
       "3            medium                       3                         20   \n",
       "4             large                       1                          3   \n",
       "...             ...                     ...                        ...   \n",
       "9995         medium                       5                         12   \n",
       "9996    extra large                       3                         14   \n",
       "9997    extra large                       5                         11   \n",
       "9998         medium                       5                         19   \n",
       "9999          small                       4                         11   \n",
       "\n",
       "      How Many New Clothes Monthly  How Long Internet Daily Hour  \\\n",
       "0                               26                             1   \n",
       "1                               38                             5   \n",
       "2                               47                             6   \n",
       "3                                5                             7   \n",
       "4                                5                             6   \n",
       "...                            ...                           ...   \n",
       "9995                            27                             9   \n",
       "9996                             8                            24   \n",
       "9997                             5                            24   \n",
       "9998                            14                             5   \n",
       "9999                             6                             0   \n",
       "\n",
       "     Energy efficiency                               Recycling  \\\n",
       "0                   No                               ['Metal']   \n",
       "1                   No                               ['Metal']   \n",
       "2            Sometimes                               ['Metal']   \n",
       "3            Sometimes  ['Paper', 'Plastic', 'Glass', 'Metal']   \n",
       "4                  Yes                               ['Paper']   \n",
       "...                ...                                     ...   \n",
       "9995               Yes                                      []   \n",
       "9996         Sometimes                    ['Paper', 'Plastic']   \n",
       "9997               Yes           ['Paper', 'Plastic', 'Metal']   \n",
       "9998         Sometimes                      ['Paper', 'Metal']   \n",
       "9999         Sometimes           ['Plastic', 'Glass', 'Metal']   \n",
       "\n",
       "                                     Cooking_With  CarbonEmission  \n",
       "0                               ['Stove', 'Oven']            2238  \n",
       "1                          ['Stove', 'Microwave']            1892  \n",
       "2                           ['Oven', 'Microwave']            2595  \n",
       "3              ['Microwave', 'Grill', 'Airfryer']            1074  \n",
       "4                                        ['Oven']            4743  \n",
       "...                                           ...             ...  \n",
       "9995                                ['Microwave']            2408  \n",
       "9996                       ['Stove', 'Microwave']            3084  \n",
       "9997           ['Microwave', 'Grill', 'Airfryer']            2377  \n",
       "9998  ['Stove', 'Microwave', 'Grill', 'Airfryer']            4574  \n",
       "9999                ['Oven', 'Grill', 'Airfryer']             826  \n",
       "\n",
       "[10000 rows x 20 columns]"
      ]
     },
     "execution_count": 4,
     "metadata": {},
     "output_type": "execute_result"
    }
   ],
   "source": [
    "df"
   ]
  },
  {
   "cell_type": "markdown",
   "metadata": {},
   "source": [
    "Data Preprocessing"
   ]
  },
  {
   "cell_type": "code",
   "execution_count": 5,
   "metadata": {},
   "outputs": [],
   "source": [
    "df['Vehicle Type'].fillna(df['Vehicle Type'].mode()[0], inplace = True)"
   ]
  },
  {
   "cell_type": "code",
   "execution_count": 6,
   "metadata": {},
   "outputs": [
    {
     "name": "stdout",
     "output_type": "stream",
     "text": [
      "<class 'pandas.core.frame.DataFrame'>\n",
      "RangeIndex: 10000 entries, 0 to 9999\n",
      "Data columns (total 20 columns):\n",
      " #   Column                         Non-Null Count  Dtype \n",
      "---  ------                         --------------  ----- \n",
      " 0   Body Type                      10000 non-null  object\n",
      " 1   Sex                            10000 non-null  object\n",
      " 2   Diet                           10000 non-null  object\n",
      " 3   How Often Shower               10000 non-null  object\n",
      " 4   Heating Energy Source          10000 non-null  object\n",
      " 5   Transport                      10000 non-null  object\n",
      " 6   Vehicle Type                   10000 non-null  object\n",
      " 7   Social Activity                10000 non-null  object\n",
      " 8   Monthly Grocery Bill           10000 non-null  int64 \n",
      " 9   Frequency of Traveling by Air  10000 non-null  object\n",
      " 10  Vehicle Monthly Distance Km    10000 non-null  int64 \n",
      " 11  Waste Bag Size                 10000 non-null  object\n",
      " 12  Waste Bag Weekly Count         10000 non-null  int64 \n",
      " 13  How Long TV PC Daily Hour      10000 non-null  int64 \n",
      " 14  How Many New Clothes Monthly   10000 non-null  int64 \n",
      " 15  How Long Internet Daily Hour   10000 non-null  int64 \n",
      " 16  Energy efficiency              10000 non-null  object\n",
      " 17  Recycling                      10000 non-null  object\n",
      " 18  Cooking_With                   10000 non-null  object\n",
      " 19  CarbonEmission                 10000 non-null  int64 \n",
      "dtypes: int64(7), object(13)\n",
      "memory usage: 1.5+ MB\n"
     ]
    }
   ],
   "source": [
    "df.info()"
   ]
  },
  {
   "cell_type": "code",
   "execution_count": 7,
   "metadata": {},
   "outputs": [],
   "source": [
    "object_columns = df.select_dtypes(\"object\").columns.to_list()\n",
    "number_columns = df.drop(object_columns, axis=1).columns.to_list()"
   ]
  },
  {
   "cell_type": "code",
   "execution_count": 8,
   "metadata": {},
   "outputs": [
    {
     "data": {
      "text/plain": [
       "['Body Type',\n",
       " 'Sex',\n",
       " 'Diet',\n",
       " 'How Often Shower',\n",
       " 'Heating Energy Source',\n",
       " 'Transport',\n",
       " 'Vehicle Type',\n",
       " 'Social Activity',\n",
       " 'Frequency of Traveling by Air',\n",
       " 'Waste Bag Size',\n",
       " 'Energy efficiency',\n",
       " 'Recycling',\n",
       " 'Cooking_With']"
      ]
     },
     "execution_count": 8,
     "metadata": {},
     "output_type": "execute_result"
    }
   ],
   "source": [
    "object_columns"
   ]
  },
  {
   "cell_type": "code",
   "execution_count": 9,
   "metadata": {},
   "outputs": [
    {
     "data": {
      "text/plain": [
       "['Monthly Grocery Bill',\n",
       " 'Vehicle Monthly Distance Km',\n",
       " 'Waste Bag Weekly Count',\n",
       " 'How Long TV PC Daily Hour',\n",
       " 'How Many New Clothes Monthly',\n",
       " 'How Long Internet Daily Hour',\n",
       " 'CarbonEmission']"
      ]
     },
     "execution_count": 9,
     "metadata": {},
     "output_type": "execute_result"
    }
   ],
   "source": [
    "number_columns"
   ]
  },
  {
   "cell_type": "code",
   "execution_count": 10,
   "metadata": {},
   "outputs": [
    {
     "data": {
      "text/html": [
       "<div>\n",
       "<style scoped>\n",
       "    .dataframe tbody tr th:only-of-type {\n",
       "        vertical-align: middle;\n",
       "    }\n",
       "\n",
       "    .dataframe tbody tr th {\n",
       "        vertical-align: top;\n",
       "    }\n",
       "\n",
       "    .dataframe thead th {\n",
       "        text-align: right;\n",
       "    }\n",
       "</style>\n",
       "<table border=\"1\" class=\"dataframe\">\n",
       "  <thead>\n",
       "    <tr style=\"text-align: right;\">\n",
       "      <th></th>\n",
       "      <th>Monthly Grocery Bill</th>\n",
       "      <th>Vehicle Monthly Distance Km</th>\n",
       "      <th>Waste Bag Weekly Count</th>\n",
       "      <th>How Long TV PC Daily Hour</th>\n",
       "      <th>How Many New Clothes Monthly</th>\n",
       "      <th>How Long Internet Daily Hour</th>\n",
       "      <th>CarbonEmission</th>\n",
       "    </tr>\n",
       "  </thead>\n",
       "  <tbody>\n",
       "    <tr>\n",
       "      <th>count</th>\n",
       "      <td>10000.000000</td>\n",
       "      <td>10000.000000</td>\n",
       "      <td>10000.000000</td>\n",
       "      <td>10000.000000</td>\n",
       "      <td>10000.000000</td>\n",
       "      <td>10000.000000</td>\n",
       "      <td>10000.000000</td>\n",
       "    </tr>\n",
       "    <tr>\n",
       "      <th>mean</th>\n",
       "      <td>173.875200</td>\n",
       "      <td>2031.485900</td>\n",
       "      <td>4.024600</td>\n",
       "      <td>12.139200</td>\n",
       "      <td>25.109000</td>\n",
       "      <td>11.889100</td>\n",
       "      <td>2269.147300</td>\n",
       "    </tr>\n",
       "    <tr>\n",
       "      <th>std</th>\n",
       "      <td>72.234018</td>\n",
       "      <td>2769.715597</td>\n",
       "      <td>1.990375</td>\n",
       "      <td>7.106369</td>\n",
       "      <td>14.698725</td>\n",
       "      <td>7.277218</td>\n",
       "      <td>1017.675247</td>\n",
       "    </tr>\n",
       "    <tr>\n",
       "      <th>min</th>\n",
       "      <td>50.000000</td>\n",
       "      <td>0.000000</td>\n",
       "      <td>1.000000</td>\n",
       "      <td>0.000000</td>\n",
       "      <td>0.000000</td>\n",
       "      <td>0.000000</td>\n",
       "      <td>306.000000</td>\n",
       "    </tr>\n",
       "    <tr>\n",
       "      <th>25%</th>\n",
       "      <td>111.000000</td>\n",
       "      <td>69.000000</td>\n",
       "      <td>2.000000</td>\n",
       "      <td>6.000000</td>\n",
       "      <td>13.000000</td>\n",
       "      <td>6.000000</td>\n",
       "      <td>1538.000000</td>\n",
       "    </tr>\n",
       "    <tr>\n",
       "      <th>50%</th>\n",
       "      <td>173.000000</td>\n",
       "      <td>823.000000</td>\n",
       "      <td>4.000000</td>\n",
       "      <td>12.000000</td>\n",
       "      <td>25.000000</td>\n",
       "      <td>12.000000</td>\n",
       "      <td>2080.000000</td>\n",
       "    </tr>\n",
       "    <tr>\n",
       "      <th>75%</th>\n",
       "      <td>237.000000</td>\n",
       "      <td>2516.750000</td>\n",
       "      <td>6.000000</td>\n",
       "      <td>18.000000</td>\n",
       "      <td>38.000000</td>\n",
       "      <td>18.000000</td>\n",
       "      <td>2768.000000</td>\n",
       "    </tr>\n",
       "    <tr>\n",
       "      <th>max</th>\n",
       "      <td>299.000000</td>\n",
       "      <td>9999.000000</td>\n",
       "      <td>7.000000</td>\n",
       "      <td>24.000000</td>\n",
       "      <td>50.000000</td>\n",
       "      <td>24.000000</td>\n",
       "      <td>8377.000000</td>\n",
       "    </tr>\n",
       "  </tbody>\n",
       "</table>\n",
       "</div>"
      ],
      "text/plain": [
       "       Monthly Grocery Bill  Vehicle Monthly Distance Km  \\\n",
       "count          10000.000000                 10000.000000   \n",
       "mean             173.875200                  2031.485900   \n",
       "std               72.234018                  2769.715597   \n",
       "min               50.000000                     0.000000   \n",
       "25%              111.000000                    69.000000   \n",
       "50%              173.000000                   823.000000   \n",
       "75%              237.000000                  2516.750000   \n",
       "max              299.000000                  9999.000000   \n",
       "\n",
       "       Waste Bag Weekly Count  How Long TV PC Daily Hour  \\\n",
       "count            10000.000000               10000.000000   \n",
       "mean                 4.024600                  12.139200   \n",
       "std                  1.990375                   7.106369   \n",
       "min                  1.000000                   0.000000   \n",
       "25%                  2.000000                   6.000000   \n",
       "50%                  4.000000                  12.000000   \n",
       "75%                  6.000000                  18.000000   \n",
       "max                  7.000000                  24.000000   \n",
       "\n",
       "       How Many New Clothes Monthly  How Long Internet Daily Hour  \\\n",
       "count                  10000.000000                  10000.000000   \n",
       "mean                      25.109000                     11.889100   \n",
       "std                       14.698725                      7.277218   \n",
       "min                        0.000000                      0.000000   \n",
       "25%                       13.000000                      6.000000   \n",
       "50%                       25.000000                     12.000000   \n",
       "75%                       38.000000                     18.000000   \n",
       "max                       50.000000                     24.000000   \n",
       "\n",
       "       CarbonEmission  \n",
       "count    10000.000000  \n",
       "mean      2269.147300  \n",
       "std       1017.675247  \n",
       "min        306.000000  \n",
       "25%       1538.000000  \n",
       "50%       2080.000000  \n",
       "75%       2768.000000  \n",
       "max       8377.000000  "
      ]
     },
     "execution_count": 10,
     "metadata": {},
     "output_type": "execute_result"
    }
   ],
   "source": [
    "df.describe()"
   ]
  },
  {
   "cell_type": "markdown",
   "metadata": {},
   "source": [
    "cột chứa ngoại lai"
   ]
  },
  {
   "cell_type": "markdown",
   "metadata": {},
   "source": [
    "Vehicle Monthly Distance Km &&\n",
    "CarbonEmission"
   ]
  },
  {
   "cell_type": "code",
   "execution_count": 11,
   "metadata": {},
   "outputs": [
    {
     "data": {
      "image/png": "[encoded data removed]",
      "text/plain": [
       "<Figure size 640x480 with 1 Axes>"
      ]
     },
     "metadata": {},
     "output_type": "display_data"
    }
   ],
   "source": [
    "import seaborn as sns\n",
    "fig, axs = plt.subplots()\n",
    "sns.boxplot(data=df['Vehicle Monthly Distance Km'])\n",
    "plt.show()"
   ]
  },
  {
   "cell_type": "code",
   "execution_count": 12,
   "metadata": {},
   "outputs": [],
   "source": [
    "q25, q75 = np.quantile(df[\"Vehicle Monthly Distance Km\"], 0.25), np.quantile(df[\"Vehicle Monthly Distance Km\"], 0.75)\n",
    "iqr = q75 - q25\n",
    "lower, upper = q25 - 0.1*iqr, q75 + 0.1*iqr\n",
    "df_iqr = df[(df[\"Vehicle Monthly Distance Km\"] < upper) & (df[\"Vehicle Monthly Distance Km\"] > lower)]"
   ]
  },
  {
   "cell_type": "code",
   "execution_count": 13,
   "metadata": {},
   "outputs": [
    {
     "data": {
      "image/png": "[encoded data removed]",
      "text/plain": [
       "<Figure size 640x480 with 1 Axes>"
      ]
     },
     "metadata": {},
     "output_type": "display_data"
    }
   ],
   "source": [
    "import seaborn as sns\n",
    "fig, axs = plt.subplots()\n",
    "sns.boxplot(data=df_iqr['Vehicle Monthly Distance Km'])\n",
    "plt.show()"
   ]
  },
  {
   "cell_type": "code",
   "execution_count": 14,
   "metadata": {},
   "outputs": [
    {
     "data": {
      "image/png": "[encoded data removed]",
      "text/plain": [
       "<Figure size 640x480 with 1 Axes>"
      ]
     },
     "metadata": {},
     "output_type": "display_data"
    }
   ],
   "source": [
    "import seaborn as sns\n",
    "fig, axs = plt.subplots()\n",
    "sns.boxplot(data=df['CarbonEmission'])\n",
    "plt.show()"
   ]
  },
  {
   "cell_type": "code",
   "execution_count": 15,
   "metadata": {},
   "outputs": [
    {
     "name": "stderr",
     "output_type": "stream",
     "text": [
      "C:\\Users\\truon\\AppData\\Local\\Temp\\ipykernel_12176\\321143847.py:4: UserWarning: Boolean Series key will be reindexed to match DataFrame index.\n",
      "  df_iqr = df_iqr[(df[\"CarbonEmission\"] < upper) & (df_iqr[\"CarbonEmission\"] > lower)]\n"
     ]
    }
   ],
   "source": [
    "q25, q75 = np.quantile(df_iqr[\"CarbonEmission\"], 0.25), np.quantile(df_iqr[\"CarbonEmission\"], 0.75)\n",
    "iqr = q75 - q25\n",
    "lower, upper = q25 - 1.5*iqr, q75 + 1.5*iqr\n",
    "df_iqr = df_iqr[(df[\"CarbonEmission\"] < upper) & (df_iqr[\"CarbonEmission\"] > lower)]"
   ]
  },
  {
   "cell_type": "code",
   "execution_count": 16,
   "metadata": {},
   "outputs": [
    {
     "data": {
      "image/png": "[encoded data removed]",
      "text/plain": [
       "<Figure size 640x480 with 1 Axes>"
      ]
     },
     "metadata": {},
     "output_type": "display_data"
    }
   ],
   "source": [
    "import seaborn as sns\n",
    "fig, axs = plt.subplots()\n",
    "sns.boxplot(data=df_iqr['CarbonEmission'])\n",
    "plt.show()"
   ]
  },
  {
   "cell_type": "code",
   "execution_count": 17,
   "metadata": {},
   "outputs": [
    {
     "data": {
      "text/html": [
       "<div>\n",
       "<style scoped>\n",
       "    .dataframe tbody tr th:only-of-type {\n",
       "        vertical-align: middle;\n",
       "    }\n",
       "\n",
       "    .dataframe tbody tr th {\n",
       "        vertical-align: top;\n",
       "    }\n",
       "\n",
       "    .dataframe thead th {\n",
       "        text-align: right;\n",
       "    }\n",
       "</style>\n",
       "<table border=\"1\" class=\"dataframe\">\n",
       "  <thead>\n",
       "    <tr style=\"text-align: right;\">\n",
       "      <th></th>\n",
       "      <th>Monthly Grocery Bill</th>\n",
       "      <th>Vehicle Monthly Distance Km</th>\n",
       "      <th>Waste Bag Weekly Count</th>\n",
       "      <th>How Long TV PC Daily Hour</th>\n",
       "      <th>How Many New Clothes Monthly</th>\n",
       "      <th>How Long Internet Daily Hour</th>\n",
       "      <th>CarbonEmission</th>\n",
       "    </tr>\n",
       "  </thead>\n",
       "  <tbody>\n",
       "    <tr>\n",
       "      <th>count</th>\n",
       "      <td>7512.000000</td>\n",
       "      <td>7512.000000</td>\n",
       "      <td>7512.000000</td>\n",
       "      <td>7512.000000</td>\n",
       "      <td>7512.00000</td>\n",
       "      <td>7512.000000</td>\n",
       "      <td>7512.000000</td>\n",
       "    </tr>\n",
       "    <tr>\n",
       "      <th>mean</th>\n",
       "      <td>173.096246</td>\n",
       "      <td>617.280218</td>\n",
       "      <td>4.020101</td>\n",
       "      <td>12.185170</td>\n",
       "      <td>24.94369</td>\n",
       "      <td>11.868078</td>\n",
       "      <td>1936.142971</td>\n",
       "    </tr>\n",
       "    <tr>\n",
       "      <th>std</th>\n",
       "      <td>72.187934</td>\n",
       "      <td>704.369176</td>\n",
       "      <td>1.985233</td>\n",
       "      <td>7.107608</td>\n",
       "      <td>14.66010</td>\n",
       "      <td>7.247294</td>\n",
       "      <td>664.650179</td>\n",
       "    </tr>\n",
       "    <tr>\n",
       "      <th>min</th>\n",
       "      <td>50.000000</td>\n",
       "      <td>0.000000</td>\n",
       "      <td>1.000000</td>\n",
       "      <td>0.000000</td>\n",
       "      <td>0.00000</td>\n",
       "      <td>0.000000</td>\n",
       "      <td>306.000000</td>\n",
       "    </tr>\n",
       "    <tr>\n",
       "      <th>25%</th>\n",
       "      <td>111.000000</td>\n",
       "      <td>53.000000</td>\n",
       "      <td>2.000000</td>\n",
       "      <td>6.000000</td>\n",
       "      <td>12.00000</td>\n",
       "      <td>6.000000</td>\n",
       "      <td>1433.000000</td>\n",
       "    </tr>\n",
       "    <tr>\n",
       "      <th>50%</th>\n",
       "      <td>172.000000</td>\n",
       "      <td>191.000000</td>\n",
       "      <td>4.000000</td>\n",
       "      <td>12.000000</td>\n",
       "      <td>25.00000</td>\n",
       "      <td>12.000000</td>\n",
       "      <td>1867.000000</td>\n",
       "    </tr>\n",
       "    <tr>\n",
       "      <th>75%</th>\n",
       "      <td>236.000000</td>\n",
       "      <td>1170.500000</td>\n",
       "      <td>6.000000</td>\n",
       "      <td>18.000000</td>\n",
       "      <td>37.00000</td>\n",
       "      <td>18.000000</td>\n",
       "      <td>2400.000000</td>\n",
       "    </tr>\n",
       "    <tr>\n",
       "      <th>max</th>\n",
       "      <td>299.000000</td>\n",
       "      <td>2761.000000</td>\n",
       "      <td>7.000000</td>\n",
       "      <td>24.000000</td>\n",
       "      <td>50.00000</td>\n",
       "      <td>24.000000</td>\n",
       "      <td>3884.000000</td>\n",
       "    </tr>\n",
       "  </tbody>\n",
       "</table>\n",
       "</div>"
      ],
      "text/plain": [
       "       Monthly Grocery Bill  Vehicle Monthly Distance Km  \\\n",
       "count           7512.000000                  7512.000000   \n",
       "mean             173.096246                   617.280218   \n",
       "std               72.187934                   704.369176   \n",
       "min               50.000000                     0.000000   \n",
       "25%              111.000000                    53.000000   \n",
       "50%              172.000000                   191.000000   \n",
       "75%              236.000000                  1170.500000   \n",
       "max              299.000000                  2761.000000   \n",
       "\n",
       "       Waste Bag Weekly Count  How Long TV PC Daily Hour  \\\n",
       "count             7512.000000                7512.000000   \n",
       "mean                 4.020101                  12.185170   \n",
       "std                  1.985233                   7.107608   \n",
       "min                  1.000000                   0.000000   \n",
       "25%                  2.000000                   6.000000   \n",
       "50%                  4.000000                  12.000000   \n",
       "75%                  6.000000                  18.000000   \n",
       "max                  7.000000                  24.000000   \n",
       "\n",
       "       How Many New Clothes Monthly  How Long Internet Daily Hour  \\\n",
       "count                    7512.00000                   7512.000000   \n",
       "mean                       24.94369                     11.868078   \n",
       "std                        14.66010                      7.247294   \n",
       "min                         0.00000                      0.000000   \n",
       "25%                        12.00000                      6.000000   \n",
       "50%                        25.00000                     12.000000   \n",
       "75%                        37.00000                     18.000000   \n",
       "max                        50.00000                     24.000000   \n",
       "\n",
       "       CarbonEmission  \n",
       "count     7512.000000  \n",
       "mean      1936.142971  \n",
       "std        664.650179  \n",
       "min        306.000000  \n",
       "25%       1433.000000  \n",
       "50%       1867.000000  \n",
       "75%       2400.000000  \n",
       "max       3884.000000  "
      ]
     },
     "execution_count": 17,
     "metadata": {},
     "output_type": "execute_result"
    }
   ],
   "source": [
    "df_iqr.describe()"
   ]
  },
  {
   "cell_type": "code",
   "execution_count": 18,
   "metadata": {},
   "outputs": [
    {
     "data": {
      "text/plain": [
       "Body Type\n",
       "underweight    1910\n",
       "overweight     1883\n",
       "normal         1875\n",
       "obese          1844\n",
       "Name: count, dtype: int64"
      ]
     },
     "execution_count": 18,
     "metadata": {},
     "output_type": "execute_result"
    }
   ],
   "source": [
    "df_iqr['Body Type'].value_counts()"
   ]
  },
  {
   "cell_type": "code",
   "execution_count": 19,
   "metadata": {},
   "outputs": [
    {
     "data": {
      "text/plain": [
       "Sex\n",
       "female    3764\n",
       "male      3748\n",
       "Name: count, dtype: int64"
      ]
     },
     "execution_count": 19,
     "metadata": {},
     "output_type": "execute_result"
    }
   ],
   "source": [
    "df_iqr['Sex'].value_counts()"
   ]
  },
  {
   "cell_type": "code",
   "execution_count": 20,
   "metadata": {},
   "outputs": [
    {
     "data": {
      "text/plain": [
       "Diet\n",
       "pescatarian    1938\n",
       "vegan          1886\n",
       "vegetarian     1870\n",
       "omnivore       1818\n",
       "Name: count, dtype: int64"
      ]
     },
     "execution_count": 20,
     "metadata": {},
     "output_type": "execute_result"
    }
   ],
   "source": [
    "df_iqr['Diet'].value_counts()"
   ]
  },
  {
   "cell_type": "code",
   "execution_count": 21,
   "metadata": {},
   "outputs": [
    {
     "data": {
      "text/plain": [
       "How Often Shower\n",
       "daily              1956\n",
       "less frequently    1878\n",
       "twice a day        1852\n",
       "more frequently    1826\n",
       "Name: count, dtype: int64"
      ]
     },
     "execution_count": 21,
     "metadata": {},
     "output_type": "execute_result"
    }
   ],
   "source": [
    "df_iqr['How Often Shower'].value_counts()"
   ]
  },
  {
   "cell_type": "code",
   "execution_count": 22,
   "metadata": {},
   "outputs": [
    {
     "data": {
      "text/plain": [
       "Heating Energy Source\n",
       "electricity    1932\n",
       "natural gas    1873\n",
       "coal           1860\n",
       "wood           1847\n",
       "Name: count, dtype: int64"
      ]
     },
     "execution_count": 22,
     "metadata": {},
     "output_type": "execute_result"
    }
   ],
   "source": [
    "df_iqr['Heating Energy Source'].value_counts()"
   ]
  },
  {
   "cell_type": "code",
   "execution_count": 23,
   "metadata": {},
   "outputs": [
    {
     "data": {
      "text/plain": [
       "Transport\n",
       "walk/bicycle    3414\n",
       "public          3268\n",
       "private          830\n",
       "Name: count, dtype: int64"
      ]
     },
     "execution_count": 23,
     "metadata": {},
     "output_type": "execute_result"
    }
   ],
   "source": [
    "df_iqr['Transport'].value_counts()"
   ]
  },
  {
   "cell_type": "code",
   "execution_count": 24,
   "metadata": {},
   "outputs": [
    {
     "data": {
      "text/plain": [
       "Vehicle Type\n",
       "lpg         6856\n",
       "electric     181\n",
       "petrol       168\n",
       "hybrid       160\n",
       "diesel       147\n",
       "Name: count, dtype: int64"
      ]
     },
     "execution_count": 24,
     "metadata": {},
     "output_type": "execute_result"
    }
   ],
   "source": [
    "df_iqr['Vehicle Type'].value_counts()"
   ]
  },
  {
   "cell_type": "code",
   "execution_count": 25,
   "metadata": {},
   "outputs": [
    {
     "data": {
      "text/plain": [
       "Social Activity\n",
       "never        2558\n",
       "often        2491\n",
       "sometimes    2463\n",
       "Name: count, dtype: int64"
      ]
     },
     "execution_count": 25,
     "metadata": {},
     "output_type": "execute_result"
    }
   ],
   "source": [
    "df_iqr['Social Activity'].value_counts()"
   ]
  },
  {
   "cell_type": "code",
   "execution_count": 26,
   "metadata": {},
   "outputs": [
    {
     "data": {
      "text/plain": [
       "Frequency of Traveling by Air\n",
       "frequently         1912\n",
       "never              1901\n",
       "very frequently    1876\n",
       "rarely             1823\n",
       "Name: count, dtype: int64"
      ]
     },
     "execution_count": 26,
     "metadata": {},
     "output_type": "execute_result"
    }
   ],
   "source": [
    "df_iqr['Frequency of Traveling by Air'].value_counts()"
   ]
  },
  {
   "cell_type": "code",
   "execution_count": 27,
   "metadata": {},
   "outputs": [
    {
     "data": {
      "text/plain": [
       "Waste Bag Size\n",
       "small          1948\n",
       "large          1871\n",
       "extra large    1862\n",
       "medium         1831\n",
       "Name: count, dtype: int64"
      ]
     },
     "execution_count": 27,
     "metadata": {},
     "output_type": "execute_result"
    }
   ],
   "source": [
    "df_iqr['Waste Bag Size'].value_counts()"
   ]
  },
  {
   "cell_type": "code",
   "execution_count": 28,
   "metadata": {},
   "outputs": [
    {
     "data": {
      "text/plain": [
       "Energy efficiency\n",
       "Sometimes    2607\n",
       "Yes          2467\n",
       "No           2438\n",
       "Name: count, dtype: int64"
      ]
     },
     "execution_count": 28,
     "metadata": {},
     "output_type": "execute_result"
    }
   ],
   "source": [
    "df_iqr['Energy efficiency'].value_counts()"
   ]
  },
  {
   "cell_type": "code",
   "execution_count": 29,
   "metadata": {},
   "outputs": [
    {
     "data": {
      "text/plain": [
       "Recycling\n",
       "['Paper', 'Plastic', 'Metal']             494\n",
       "['Plastic', 'Metal']                      493\n",
       "[]                                        489\n",
       "['Paper', 'Plastic', 'Glass', 'Metal']    488\n",
       "['Paper', 'Glass', 'Metal']               485\n",
       "['Glass', 'Metal']                        485\n",
       "['Paper', 'Plastic']                      478\n",
       "['Plastic', 'Glass', 'Metal']             477\n",
       "['Paper']                                 472\n",
       "['Paper', 'Glass']                        465\n",
       "['Plastic', 'Glass']                      457\n",
       "['Metal']                                 455\n",
       "['Paper', 'Plastic', 'Glass']             452\n",
       "['Paper', 'Metal']                        445\n",
       "['Glass']                                 443\n",
       "['Plastic']                               434\n",
       "Name: count, dtype: int64"
      ]
     },
     "execution_count": 29,
     "metadata": {},
     "output_type": "execute_result"
    }
   ],
   "source": [
    "df_iqr['Recycling'].value_counts()"
   ]
  },
  {
   "cell_type": "code",
   "execution_count": 30,
   "metadata": {},
   "outputs": [
    {
     "data": {
      "text/plain": [
       "Cooking_With\n",
       "['Stove', 'Microwave', 'Grill', 'Airfryer']            492\n",
       "['Stove', 'Oven', 'Microwave', 'Grill', 'Airfryer']    486\n",
       "['Stove', 'Oven']                                      484\n",
       "['Stove', 'Microwave']                                 482\n",
       "['Stove', 'Grill', 'Airfryer']                         479\n",
       "['Oven', 'Microwave']                                  477\n",
       "['Microwave', 'Grill', 'Airfryer']                     476\n",
       "[]                                                     468\n",
       "['Oven', 'Microwave', 'Grill', 'Airfryer']             467\n",
       "['Stove', 'Oven', 'Microwave']                         464\n",
       "['Stove', 'Oven', 'Grill', 'Airfryer']                 463\n",
       "['Microwave']                                          462\n",
       "['Grill', 'Airfryer']                                  459\n",
       "['Oven']                                               454\n",
       "['Oven', 'Grill', 'Airfryer']                          450\n",
       "['Stove']                                              449\n",
       "Name: count, dtype: int64"
      ]
     },
     "execution_count": 30,
     "metadata": {},
     "output_type": "execute_result"
    }
   ],
   "source": [
    "df_iqr['Cooking_With'].value_counts()"
   ]
  },
  {
   "cell_type": "code",
   "execution_count": 31,
   "metadata": {},
   "outputs": [],
   "source": [
    "object_columns.remove(\"Recycling\")\n",
    "object_columns.remove(\"Cooking_With\")"
   ]
  },
  {
   "cell_type": "code",
   "execution_count": 32,
   "metadata": {},
   "outputs": [
    {
     "data": {
      "text/plain": [
       "['Body Type',\n",
       " 'Sex',\n",
       " 'Diet',\n",
       " 'How Often Shower',\n",
       " 'Heating Energy Source',\n",
       " 'Transport',\n",
       " 'Vehicle Type',\n",
       " 'Social Activity',\n",
       " 'Frequency of Traveling by Air',\n",
       " 'Waste Bag Size',\n",
       " 'Energy efficiency']"
      ]
     },
     "execution_count": 32,
     "metadata": {},
     "output_type": "execute_result"
    }
   ],
   "source": [
    "object_columns"
   ]
  },
  {
   "cell_type": "code",
   "execution_count": 33,
   "metadata": {},
   "outputs": [
    {
     "data": {
      "text/html": [
       "<style>#sk-container-id-1 {color: black;background-color: white;}#sk-container-id-1 pre{padding: 0;}#sk-container-id-1 div.sk-toggleable {background-color: white;}#sk-container-id-1 label.sk-toggleable__label {cursor: pointer;display: block;width: 100%;margin-bottom: 0;padding: 0.3em;box-sizing: border-box;text-align: center;}#sk-container-id-1 label.sk-toggleable__label-arrow:before {content: \"▸\";float: left;margin-right: 0.25em;color: #696969;}#sk-container-id-1 label.sk-toggleable__label-arrow:hover:before {color: black;}#sk-container-id-1 div.sk-estimator:hover label.sk-toggleable__label-arrow:before {color: black;}#sk-container-id-1 div.sk-toggleable__content {max-height: 0;max-width: 0;overflow: hidden;text-align: left;background-color: #f0f8ff;}#sk-container-id-1 div.sk-toggleable__content pre {margin: 0.2em;color: black;border-radius: 0.25em;background-color: #f0f8ff;}#sk-container-id-1 input.sk-toggleable__control:checked~div.sk-toggleable__content {max-height: 200px;max-width: 100%;overflow: auto;}#sk-container-id-1 input.sk-toggleable__control:checked~label.sk-toggleable__label-arrow:before {content: \"▾\";}#sk-container-id-1 div.sk-estimator input.sk-toggleable__control:checked~label.sk-toggleable__label {background-color: #d4ebff;}#sk-container-id-1 div.sk-label input.sk-toggleable__control:checked~label.sk-toggleable__label {background-color: #d4ebff;}#sk-container-id-1 input.sk-hidden--visually {border: 0;clip: rect(1px 1px 1px 1px);clip: rect(1px, 1px, 1px, 1px);height: 1px;margin: -1px;overflow: hidden;padding: 0;position: absolute;width: 1px;}#sk-container-id-1 div.sk-estimator {font-family: monospace;background-color: #f0f8ff;border: 1px dotted black;border-radius: 0.25em;box-sizing: border-box;margin-bottom: 0.5em;}#sk-container-id-1 div.sk-estimator:hover {background-color: #d4ebff;}#sk-container-id-1 div.sk-parallel-item::after {content: \"\";width: 100%;border-bottom: 1px solid gray;flex-grow: 1;}#sk-container-id-1 div.sk-label:hover label.sk-toggleable__label {background-color: #d4ebff;}#sk-container-id-1 div.sk-serial::before {content: \"\";position: absolute;border-left: 1px solid gray;box-sizing: border-box;top: 0;bottom: 0;left: 50%;z-index: 0;}#sk-container-id-1 div.sk-serial {display: flex;flex-direction: column;align-items: center;background-color: white;padding-right: 0.2em;padding-left: 0.2em;position: relative;}#sk-container-id-1 div.sk-item {position: relative;z-index: 1;}#sk-container-id-1 div.sk-parallel {display: flex;align-items: stretch;justify-content: center;background-color: white;position: relative;}#sk-container-id-1 div.sk-item::before, #sk-container-id-1 div.sk-parallel-item::before {content: \"\";position: absolute;border-left: 1px solid gray;box-sizing: border-box;top: 0;bottom: 0;left: 50%;z-index: -1;}#sk-container-id-1 div.sk-parallel-item {display: flex;flex-direction: column;z-index: 1;position: relative;background-color: white;}#sk-container-id-1 div.sk-parallel-item:first-child::after {align-self: flex-end;width: 50%;}#sk-container-id-1 div.sk-parallel-item:last-child::after {align-self: flex-start;width: 50%;}#sk-container-id-1 div.sk-parallel-item:only-child::after {width: 0;}#sk-container-id-1 div.sk-dashed-wrapped {border: 1px dashed gray;margin: 0 0.4em 0.5em 0.4em;box-sizing: border-box;padding-bottom: 0.4em;background-color: white;}#sk-container-id-1 div.sk-label label {font-family: monospace;font-weight: bold;display: inline-block;line-height: 1.2em;}#sk-container-id-1 div.sk-label-container {text-align: center;}#sk-container-id-1 div.sk-container {/* jupyter's `normalize.less` sets `[hidden] { display: none; }` but bootstrap.min.css set `[hidden] { display: none !important; }` so we also need the `!important` here to be able to override the default hidden behavior on the sphinx rendered scikit-learn.org. See: https://github.com/scikit-learn/scikit-learn/issues/21755 */display: inline-block !important;position: relative;}#sk-container-id-1 div.sk-text-repr-fallback {display: none;}</style><div id=\"sk-container-id-1\" class=\"sk-top-container\"><div class=\"sk-text-repr-fallback\"><pre>OneHotEncoder(cols=[&#x27;Body Type&#x27;, &#x27;Sex&#x27;, &#x27;Diet&#x27;, &#x27;How Often Shower&#x27;,\n",
       "                    &#x27;Heating Energy Source&#x27;, &#x27;Transport&#x27;, &#x27;Vehicle Type&#x27;,\n",
       "                    &#x27;Social Activity&#x27;, &#x27;Frequency of Traveling by Air&#x27;,\n",
       "                    &#x27;Waste Bag Size&#x27;, &#x27;Energy efficiency&#x27;])</pre><b>In a Jupyter environment, please rerun this cell to show the HTML representation or trust the notebook. <br />On GitHub, the HTML representation is unable to render, please try loading this page with nbviewer.org.</b></div><div class=\"sk-container\" hidden><div class=\"sk-item\"><div class=\"sk-estimator sk-toggleable\"><input class=\"sk-toggleable__control sk-hidden--visually\" id=\"sk-estimator-id-1\" type=\"checkbox\" checked><label for=\"sk-estimator-id-1\" class=\"sk-toggleable__label sk-toggleable__label-arrow\">OneHotEncoder</label><div class=\"sk-toggleable__content\"><pre>OneHotEncoder(cols=[&#x27;Body Type&#x27;, &#x27;Sex&#x27;, &#x27;Diet&#x27;, &#x27;How Often Shower&#x27;,\n",
       "                    &#x27;Heating Energy Source&#x27;, &#x27;Transport&#x27;, &#x27;Vehicle Type&#x27;,\n",
       "                    &#x27;Social Activity&#x27;, &#x27;Frequency of Traveling by Air&#x27;,\n",
       "                    &#x27;Waste Bag Size&#x27;, &#x27;Energy efficiency&#x27;])</pre></div></div></div></div></div>"
      ],
      "text/plain": [
       "OneHotEncoder(cols=['Body Type', 'Sex', 'Diet', 'How Often Shower',\n",
       "                    'Heating Energy Source', 'Transport', 'Vehicle Type',\n",
       "                    'Social Activity', 'Frequency of Traveling by Air',\n",
       "                    'Waste Bag Size', 'Energy efficiency'])"
      ]
     },
     "execution_count": 33,
     "metadata": {},
     "output_type": "execute_result"
    }
   ],
   "source": [
    "from category_encoders import OneHotEncoder \n",
    "encode = OneHotEncoder(cols= object_columns, return_df= True)\n",
    "encode.fit(df_iqr)"
   ]
  },
  {
   "cell_type": "code",
   "execution_count": 34,
   "metadata": {},
   "outputs": [],
   "source": [
    "df = encode.transform(df_iqr)"
   ]
  },
  {
   "cell_type": "code",
   "execution_count": 35,
   "metadata": {},
   "outputs": [
    {
     "data": {
      "text/html": [
       "<style>#sk-container-id-2 {color: black;background-color: white;}#sk-container-id-2 pre{padding: 0;}#sk-container-id-2 div.sk-toggleable {background-color: white;}#sk-container-id-2 label.sk-toggleable__label {cursor: pointer;display: block;width: 100%;margin-bottom: 0;padding: 0.3em;box-sizing: border-box;text-align: center;}#sk-container-id-2 label.sk-toggleable__label-arrow:before {content: \"▸\";float: left;margin-right: 0.25em;color: #696969;}#sk-container-id-2 label.sk-toggleable__label-arrow:hover:before {color: black;}#sk-container-id-2 div.sk-estimator:hover label.sk-toggleable__label-arrow:before {color: black;}#sk-container-id-2 div.sk-toggleable__content {max-height: 0;max-width: 0;overflow: hidden;text-align: left;background-color: #f0f8ff;}#sk-container-id-2 div.sk-toggleable__content pre {margin: 0.2em;color: black;border-radius: 0.25em;background-color: #f0f8ff;}#sk-container-id-2 input.sk-toggleable__control:checked~div.sk-toggleable__content {max-height: 200px;max-width: 100%;overflow: auto;}#sk-container-id-2 input.sk-toggleable__control:checked~label.sk-toggleable__label-arrow:before {content: \"▾\";}#sk-container-id-2 div.sk-estimator input.sk-toggleable__control:checked~label.sk-toggleable__label {background-color: #d4ebff;}#sk-container-id-2 div.sk-label input.sk-toggleable__control:checked~label.sk-toggleable__label {background-color: #d4ebff;}#sk-container-id-2 input.sk-hidden--visually {border: 0;clip: rect(1px 1px 1px 1px);clip: rect(1px, 1px, 1px, 1px);height: 1px;margin: -1px;overflow: hidden;padding: 0;position: absolute;width: 1px;}#sk-container-id-2 div.sk-estimator {font-family: monospace;background-color: #f0f8ff;border: 1px dotted black;border-radius: 0.25em;box-sizing: border-box;margin-bottom: 0.5em;}#sk-container-id-2 div.sk-estimator:hover {background-color: #d4ebff;}#sk-container-id-2 div.sk-parallel-item::after {content: \"\";width: 100%;border-bottom: 1px solid gray;flex-grow: 1;}#sk-container-id-2 div.sk-label:hover label.sk-toggleable__label {background-color: #d4ebff;}#sk-container-id-2 div.sk-serial::before {content: \"\";position: absolute;border-left: 1px solid gray;box-sizing: border-box;top: 0;bottom: 0;left: 50%;z-index: 0;}#sk-container-id-2 div.sk-serial {display: flex;flex-direction: column;align-items: center;background-color: white;padding-right: 0.2em;padding-left: 0.2em;position: relative;}#sk-container-id-2 div.sk-item {position: relative;z-index: 1;}#sk-container-id-2 div.sk-parallel {display: flex;align-items: stretch;justify-content: center;background-color: white;position: relative;}#sk-container-id-2 div.sk-item::before, #sk-container-id-2 div.sk-parallel-item::before {content: \"\";position: absolute;border-left: 1px solid gray;box-sizing: border-box;top: 0;bottom: 0;left: 50%;z-index: -1;}#sk-container-id-2 div.sk-parallel-item {display: flex;flex-direction: column;z-index: 1;position: relative;background-color: white;}#sk-container-id-2 div.sk-parallel-item:first-child::after {align-self: flex-end;width: 50%;}#sk-container-id-2 div.sk-parallel-item:last-child::after {align-self: flex-start;width: 50%;}#sk-container-id-2 div.sk-parallel-item:only-child::after {width: 0;}#sk-container-id-2 div.sk-dashed-wrapped {border: 1px dashed gray;margin: 0 0.4em 0.5em 0.4em;box-sizing: border-box;padding-bottom: 0.4em;background-color: white;}#sk-container-id-2 div.sk-label label {font-family: monospace;font-weight: bold;display: inline-block;line-height: 1.2em;}#sk-container-id-2 div.sk-label-container {text-align: center;}#sk-container-id-2 div.sk-container {/* jupyter's `normalize.less` sets `[hidden] { display: none; }` but bootstrap.min.css set `[hidden] { display: none !important; }` so we also need the `!important` here to be able to override the default hidden behavior on the sphinx rendered scikit-learn.org. See: https://github.com/scikit-learn/scikit-learn/issues/21755 */display: inline-block !important;position: relative;}#sk-container-id-2 div.sk-text-repr-fallback {display: none;}</style><div id=\"sk-container-id-2\" class=\"sk-top-container\"><div class=\"sk-text-repr-fallback\"><pre>BaseNEncoder(base=16, cols=[&#x27;Recycling&#x27;, &#x27;Cooking_With&#x27;],\n",
       "             mapping=[{&#x27;col&#x27;: &#x27;Recycling&#x27;,\n",
       "                       &#x27;mapping&#x27;:      Recycling_0  Recycling_1\n",
       " 1             0            1\n",
       " 2             0            2\n",
       " 3             0            3\n",
       " 4             0            4\n",
       " 5             0            5\n",
       " 6             0            6\n",
       " 7             0            7\n",
       " 8             0            8\n",
       " 9             0            9\n",
       " 10            0           10\n",
       " 11            0           11\n",
       " 12            0           12\n",
       " 13            0           13\n",
       " 14            0           14\n",
       " 15            0           15\n",
       " 16            1            0\n",
       "-1             0            0\n",
       "-2             0            0},\n",
       "                      {&#x27;col&#x27;: &#x27;Cooking_With&#x27;,\n",
       "                       &#x27;mapping&#x27;:      Cooking_With_0  Cooking_With_1\n",
       " 1                0               1\n",
       " 2                0               2\n",
       " 3                0               3\n",
       " 4                0               4\n",
       " 5                0               5\n",
       " 6                0               6\n",
       " 7                0               7\n",
       " 8                0               8\n",
       " 9                0               9\n",
       " 10               0              10\n",
       " 11               0              11\n",
       " 12               0              12\n",
       " 13               0              13\n",
       " 14               0              14\n",
       " 15               0              15\n",
       " 16               1               0\n",
       "-1                0               0\n",
       "-2                0               0}])</pre><b>In a Jupyter environment, please rerun this cell to show the HTML representation or trust the notebook. <br />On GitHub, the HTML representation is unable to render, please try loading this page with nbviewer.org.</b></div><div class=\"sk-container\" hidden><div class=\"sk-item\"><div class=\"sk-estimator sk-toggleable\"><input class=\"sk-toggleable__control sk-hidden--visually\" id=\"sk-estimator-id-2\" type=\"checkbox\" checked><label for=\"sk-estimator-id-2\" class=\"sk-toggleable__label sk-toggleable__label-arrow\">BaseNEncoder</label><div class=\"sk-toggleable__content\"><pre>BaseNEncoder(base=16, cols=[&#x27;Recycling&#x27;, &#x27;Cooking_With&#x27;],\n",
       "             mapping=[{&#x27;col&#x27;: &#x27;Recycling&#x27;,\n",
       "                       &#x27;mapping&#x27;:      Recycling_0  Recycling_1\n",
       " 1             0            1\n",
       " 2             0            2\n",
       " 3             0            3\n",
       " 4             0            4\n",
       " 5             0            5\n",
       " 6             0            6\n",
       " 7             0            7\n",
       " 8             0            8\n",
       " 9             0            9\n",
       " 10            0           10\n",
       " 11            0           11\n",
       " 12            0           12\n",
       " 13            0           13\n",
       " 14            0           14\n",
       " 15            0           15\n",
       " 16            1            0\n",
       "-1             0            0\n",
       "-2             0            0},\n",
       "                      {&#x27;col&#x27;: &#x27;Cooking_With&#x27;,\n",
       "                       &#x27;mapping&#x27;:      Cooking_With_0  Cooking_With_1\n",
       " 1                0               1\n",
       " 2                0               2\n",
       " 3                0               3\n",
       " 4                0               4\n",
       " 5                0               5\n",
       " 6                0               6\n",
       " 7                0               7\n",
       " 8                0               8\n",
       " 9                0               9\n",
       " 10               0              10\n",
       " 11               0              11\n",
       " 12               0              12\n",
       " 13               0              13\n",
       " 14               0              14\n",
       " 15               0              15\n",
       " 16               1               0\n",
       "-1                0               0\n",
       "-2                0               0}])</pre></div></div></div></div></div>"
      ],
      "text/plain": [
       "BaseNEncoder(base=16, cols=['Recycling', 'Cooking_With'],\n",
       "             mapping=[{'col': 'Recycling',\n",
       "                       'mapping':      Recycling_0  Recycling_1\n",
       " 1             0            1\n",
       " 2             0            2\n",
       " 3             0            3\n",
       " 4             0            4\n",
       " 5             0            5\n",
       " 6             0            6\n",
       " 7             0            7\n",
       " 8             0            8\n",
       " 9             0            9\n",
       " 10            0           10\n",
       " 11            0           11\n",
       " 12            0           12\n",
       " 13            0           13\n",
       " 14            0           14\n",
       " 15            0           15\n",
       " 16            1            0\n",
       "-1             0            0\n",
       "-2             0            0},\n",
       "                      {'col': 'Cooking_With',\n",
       "                       'mapping':      Cooking_With_0  Cooking_With_1\n",
       " 1                0               1\n",
       " 2                0               2\n",
       " 3                0               3\n",
       " 4                0               4\n",
       " 5                0               5\n",
       " 6                0               6\n",
       " 7                0               7\n",
       " 8                0               8\n",
       " 9                0               9\n",
       " 10               0              10\n",
       " 11               0              11\n",
       " 12               0              12\n",
       " 13               0              13\n",
       " 14               0              14\n",
       " 15               0              15\n",
       " 16               1               0\n",
       "-1                0               0\n",
       "-2                0               0}])"
      ]
     },
     "execution_count": 35,
     "metadata": {},
     "output_type": "execute_result"
    }
   ],
   "source": [
    "from category_encoders import BaseNEncoder \n",
    "encode1 = BaseNEncoder(cols= ['Recycling', 'Cooking_With'], return_df= True, base=16)\n",
    "encode1.fit(df)"
   ]
  },
  {
   "cell_type": "code",
   "execution_count": 36,
   "metadata": {},
   "outputs": [],
   "source": [
    "df = encode1.transform(df)"
   ]
  },
  {
   "cell_type": "code",
   "execution_count": 37,
   "metadata": {},
   "outputs": [
    {
     "data": {
      "text/html": [
       "<div>\n",
       "<style scoped>\n",
       "    .dataframe tbody tr th:only-of-type {\n",
       "        vertical-align: middle;\n",
       "    }\n",
       "\n",
       "    .dataframe tbody tr th {\n",
       "        vertical-align: top;\n",
       "    }\n",
       "\n",
       "    .dataframe thead th {\n",
       "        text-align: right;\n",
       "    }\n",
       "</style>\n",
       "<table border=\"1\" class=\"dataframe\">\n",
       "  <thead>\n",
       "    <tr style=\"text-align: right;\">\n",
       "      <th></th>\n",
       "      <th>Body Type_1</th>\n",
       "      <th>Body Type_2</th>\n",
       "      <th>Body Type_3</th>\n",
       "      <th>Body Type_4</th>\n",
       "      <th>Sex_1</th>\n",
       "      <th>Sex_2</th>\n",
       "      <th>Diet_1</th>\n",
       "      <th>Diet_2</th>\n",
       "      <th>Diet_3</th>\n",
       "      <th>Diet_4</th>\n",
       "      <th>...</th>\n",
       "      <th>How Many New Clothes Monthly</th>\n",
       "      <th>How Long Internet Daily Hour</th>\n",
       "      <th>Energy efficiency_1</th>\n",
       "      <th>Energy efficiency_2</th>\n",
       "      <th>Energy efficiency_3</th>\n",
       "      <th>Recycling_0</th>\n",
       "      <th>Recycling_1</th>\n",
       "      <th>Cooking_With_0</th>\n",
       "      <th>Cooking_With_1</th>\n",
       "      <th>CarbonEmission</th>\n",
       "    </tr>\n",
       "  </thead>\n",
       "  <tbody>\n",
       "    <tr>\n",
       "      <th>0</th>\n",
       "      <td>1</td>\n",
       "      <td>0</td>\n",
       "      <td>0</td>\n",
       "      <td>0</td>\n",
       "      <td>1</td>\n",
       "      <td>0</td>\n",
       "      <td>1</td>\n",
       "      <td>0</td>\n",
       "      <td>0</td>\n",
       "      <td>0</td>\n",
       "      <td>...</td>\n",
       "      <td>26</td>\n",
       "      <td>1</td>\n",
       "      <td>1</td>\n",
       "      <td>0</td>\n",
       "      <td>0</td>\n",
       "      <td>0</td>\n",
       "      <td>1</td>\n",
       "      <td>0</td>\n",
       "      <td>1</td>\n",
       "      <td>2238</td>\n",
       "    </tr>\n",
       "    <tr>\n",
       "      <th>1</th>\n",
       "      <td>0</td>\n",
       "      <td>1</td>\n",
       "      <td>0</td>\n",
       "      <td>0</td>\n",
       "      <td>1</td>\n",
       "      <td>0</td>\n",
       "      <td>0</td>\n",
       "      <td>1</td>\n",
       "      <td>0</td>\n",
       "      <td>0</td>\n",
       "      <td>...</td>\n",
       "      <td>38</td>\n",
       "      <td>5</td>\n",
       "      <td>1</td>\n",
       "      <td>0</td>\n",
       "      <td>0</td>\n",
       "      <td>0</td>\n",
       "      <td>1</td>\n",
       "      <td>0</td>\n",
       "      <td>2</td>\n",
       "      <td>1892</td>\n",
       "    </tr>\n",
       "    <tr>\n",
       "      <th>2</th>\n",
       "      <td>1</td>\n",
       "      <td>0</td>\n",
       "      <td>0</td>\n",
       "      <td>0</td>\n",
       "      <td>0</td>\n",
       "      <td>1</td>\n",
       "      <td>0</td>\n",
       "      <td>0</td>\n",
       "      <td>1</td>\n",
       "      <td>0</td>\n",
       "      <td>...</td>\n",
       "      <td>47</td>\n",
       "      <td>6</td>\n",
       "      <td>0</td>\n",
       "      <td>1</td>\n",
       "      <td>0</td>\n",
       "      <td>0</td>\n",
       "      <td>1</td>\n",
       "      <td>0</td>\n",
       "      <td>3</td>\n",
       "      <td>2595</td>\n",
       "    </tr>\n",
       "    <tr>\n",
       "      <th>3</th>\n",
       "      <td>1</td>\n",
       "      <td>0</td>\n",
       "      <td>0</td>\n",
       "      <td>0</td>\n",
       "      <td>0</td>\n",
       "      <td>1</td>\n",
       "      <td>0</td>\n",
       "      <td>0</td>\n",
       "      <td>1</td>\n",
       "      <td>0</td>\n",
       "      <td>...</td>\n",
       "      <td>5</td>\n",
       "      <td>7</td>\n",
       "      <td>0</td>\n",
       "      <td>1</td>\n",
       "      <td>0</td>\n",
       "      <td>0</td>\n",
       "      <td>2</td>\n",
       "      <td>0</td>\n",
       "      <td>4</td>\n",
       "      <td>1074</td>\n",
       "    </tr>\n",
       "    <tr>\n",
       "      <th>5</th>\n",
       "      <td>1</td>\n",
       "      <td>0</td>\n",
       "      <td>0</td>\n",
       "      <td>0</td>\n",
       "      <td>0</td>\n",
       "      <td>1</td>\n",
       "      <td>0</td>\n",
       "      <td>1</td>\n",
       "      <td>0</td>\n",
       "      <td>0</td>\n",
       "      <td>...</td>\n",
       "      <td>18</td>\n",
       "      <td>9</td>\n",
       "      <td>0</td>\n",
       "      <td>1</td>\n",
       "      <td>0</td>\n",
       "      <td>0</td>\n",
       "      <td>3</td>\n",
       "      <td>0</td>\n",
       "      <td>5</td>\n",
       "      <td>1647</td>\n",
       "    </tr>\n",
       "    <tr>\n",
       "      <th>...</th>\n",
       "      <td>...</td>\n",
       "      <td>...</td>\n",
       "      <td>...</td>\n",
       "      <td>...</td>\n",
       "      <td>...</td>\n",
       "      <td>...</td>\n",
       "      <td>...</td>\n",
       "      <td>...</td>\n",
       "      <td>...</td>\n",
       "      <td>...</td>\n",
       "      <td>...</td>\n",
       "      <td>...</td>\n",
       "      <td>...</td>\n",
       "      <td>...</td>\n",
       "      <td>...</td>\n",
       "      <td>...</td>\n",
       "      <td>...</td>\n",
       "      <td>...</td>\n",
       "      <td>...</td>\n",
       "      <td>...</td>\n",
       "      <td>...</td>\n",
       "    </tr>\n",
       "    <tr>\n",
       "      <th>9991</th>\n",
       "      <td>0</td>\n",
       "      <td>1</td>\n",
       "      <td>0</td>\n",
       "      <td>0</td>\n",
       "      <td>1</td>\n",
       "      <td>0</td>\n",
       "      <td>0</td>\n",
       "      <td>0</td>\n",
       "      <td>1</td>\n",
       "      <td>0</td>\n",
       "      <td>...</td>\n",
       "      <td>10</td>\n",
       "      <td>11</td>\n",
       "      <td>0</td>\n",
       "      <td>1</td>\n",
       "      <td>0</td>\n",
       "      <td>0</td>\n",
       "      <td>13</td>\n",
       "      <td>0</td>\n",
       "      <td>11</td>\n",
       "      <td>1278</td>\n",
       "    </tr>\n",
       "    <tr>\n",
       "      <th>9992</th>\n",
       "      <td>0</td>\n",
       "      <td>1</td>\n",
       "      <td>0</td>\n",
       "      <td>0</td>\n",
       "      <td>0</td>\n",
       "      <td>1</td>\n",
       "      <td>0</td>\n",
       "      <td>0</td>\n",
       "      <td>1</td>\n",
       "      <td>0</td>\n",
       "      <td>...</td>\n",
       "      <td>33</td>\n",
       "      <td>6</td>\n",
       "      <td>0</td>\n",
       "      <td>0</td>\n",
       "      <td>1</td>\n",
       "      <td>0</td>\n",
       "      <td>6</td>\n",
       "      <td>0</td>\n",
       "      <td>8</td>\n",
       "      <td>2077</td>\n",
       "    </tr>\n",
       "    <tr>\n",
       "      <th>9993</th>\n",
       "      <td>0</td>\n",
       "      <td>0</td>\n",
       "      <td>1</td>\n",
       "      <td>0</td>\n",
       "      <td>0</td>\n",
       "      <td>1</td>\n",
       "      <td>1</td>\n",
       "      <td>0</td>\n",
       "      <td>0</td>\n",
       "      <td>0</td>\n",
       "      <td>...</td>\n",
       "      <td>14</td>\n",
       "      <td>10</td>\n",
       "      <td>0</td>\n",
       "      <td>1</td>\n",
       "      <td>0</td>\n",
       "      <td>0</td>\n",
       "      <td>7</td>\n",
       "      <td>0</td>\n",
       "      <td>15</td>\n",
       "      <td>1794</td>\n",
       "    </tr>\n",
       "    <tr>\n",
       "      <th>9995</th>\n",
       "      <td>0</td>\n",
       "      <td>1</td>\n",
       "      <td>0</td>\n",
       "      <td>0</td>\n",
       "      <td>0</td>\n",
       "      <td>1</td>\n",
       "      <td>0</td>\n",
       "      <td>0</td>\n",
       "      <td>1</td>\n",
       "      <td>0</td>\n",
       "      <td>...</td>\n",
       "      <td>27</td>\n",
       "      <td>9</td>\n",
       "      <td>0</td>\n",
       "      <td>0</td>\n",
       "      <td>1</td>\n",
       "      <td>0</td>\n",
       "      <td>7</td>\n",
       "      <td>0</td>\n",
       "      <td>11</td>\n",
       "      <td>2408</td>\n",
       "    </tr>\n",
       "    <tr>\n",
       "      <th>9997</th>\n",
       "      <td>1</td>\n",
       "      <td>0</td>\n",
       "      <td>0</td>\n",
       "      <td>0</td>\n",
       "      <td>1</td>\n",
       "      <td>0</td>\n",
       "      <td>0</td>\n",
       "      <td>1</td>\n",
       "      <td>0</td>\n",
       "      <td>0</td>\n",
       "      <td>...</td>\n",
       "      <td>5</td>\n",
       "      <td>24</td>\n",
       "      <td>0</td>\n",
       "      <td>0</td>\n",
       "      <td>1</td>\n",
       "      <td>0</td>\n",
       "      <td>9</td>\n",
       "      <td>0</td>\n",
       "      <td>4</td>\n",
       "      <td>2377</td>\n",
       "    </tr>\n",
       "  </tbody>\n",
       "</table>\n",
       "<p>7512 rows × 51 columns</p>\n",
       "</div>"
      ],
      "text/plain": [
       "      Body Type_1  Body Type_2  Body Type_3  Body Type_4  Sex_1  Sex_2  \\\n",
       "0               1            0            0            0      1      0   \n",
       "1               0            1            0            0      1      0   \n",
       "2               1            0            0            0      0      1   \n",
       "3               1            0            0            0      0      1   \n",
       "5               1            0            0            0      0      1   \n",
       "...           ...          ...          ...          ...    ...    ...   \n",
       "9991            0            1            0            0      1      0   \n",
       "9992            0            1            0            0      0      1   \n",
       "9993            0            0            1            0      0      1   \n",
       "9995            0            1            0            0      0      1   \n",
       "9997            1            0            0            0      1      0   \n",
       "\n",
       "      Diet_1  Diet_2  Diet_3  Diet_4  ...  How Many New Clothes Monthly  \\\n",
       "0          1       0       0       0  ...                            26   \n",
       "1          0       1       0       0  ...                            38   \n",
       "2          0       0       1       0  ...                            47   \n",
       "3          0       0       1       0  ...                             5   \n",
       "5          0       1       0       0  ...                            18   \n",
       "...      ...     ...     ...     ...  ...                           ...   \n",
       "9991       0       0       1       0  ...                            10   \n",
       "9992       0       0       1       0  ...                            33   \n",
       "9993       1       0       0       0  ...                            14   \n",
       "9995       0       0       1       0  ...                            27   \n",
       "9997       0       1       0       0  ...                             5   \n",
       "\n",
       "      How Long Internet Daily Hour  Energy efficiency_1  Energy efficiency_2  \\\n",
       "0                                1                    1                    0   \n",
       "1                                5                    1                    0   \n",
       "2                                6                    0                    1   \n",
       "3                                7                    0                    1   \n",
       "5                                9                    0                    1   \n",
       "...                            ...                  ...                  ...   \n",
       "9991                            11                    0                    1   \n",
       "9992                             6                    0                    0   \n",
       "9993                            10                    0                    1   \n",
       "9995                             9                    0                    0   \n",
       "9997                            24                    0                    0   \n",
       "\n",
       "      Energy efficiency_3  Recycling_0  Recycling_1  Cooking_With_0  \\\n",
       "0                       0            0            1               0   \n",
       "1                       0            0            1               0   \n",
       "2                       0            0            1               0   \n",
       "3                       0            0            2               0   \n",
       "5                       0            0            3               0   \n",
       "...                   ...          ...          ...             ...   \n",
       "9991                    0            0           13               0   \n",
       "9992                    1            0            6               0   \n",
       "9993                    0            0            7               0   \n",
       "9995                    1            0            7               0   \n",
       "9997                    1            0            9               0   \n",
       "\n",
       "      Cooking_With_1  CarbonEmission  \n",
       "0                  1            2238  \n",
       "1                  2            1892  \n",
       "2                  3            2595  \n",
       "3                  4            1074  \n",
       "5                  5            1647  \n",
       "...              ...             ...  \n",
       "9991              11            1278  \n",
       "9992               8            2077  \n",
       "9993              15            1794  \n",
       "9995              11            2408  \n",
       "9997               4            2377  \n",
       "\n",
       "[7512 rows x 51 columns]"
      ]
     },
     "execution_count": 37,
     "metadata": {},
     "output_type": "execute_result"
    }
   ],
   "source": [
    "df"
   ]
  },
  {
   "cell_type": "code",
   "execution_count": 38,
   "metadata": {},
   "outputs": [],
   "source": [
    "x = df.drop(\"CarbonEmission\", axis=1)\n",
    "y = df[\"CarbonEmission\"]"
   ]
  },
  {
   "cell_type": "code",
   "execution_count": 39,
   "metadata": {},
   "outputs": [],
   "source": [
    "from imblearn.over_sampling import RandomOverSampler, SMOTE, ADASYN\n",
    "smote = RandomOverSampler(random_state=42)\n",
    "x, y = smote.fit_resample(x, y)"
   ]
  },
  {
   "cell_type": "code",
   "execution_count": 40,
   "metadata": {},
   "outputs": [],
   "source": [
    "from sklearn.model_selection import train_test_split\n",
    "# Phân chia dữ liệu thành tập huấn luyện và tập kiểm tra\n",
    "# x_train, x_test, y_train, y_test = train_test_split(x, y, test_size=0.2, random_state=42)\n",
    "# from sklearn.model_selection import train_test_split\n",
    "x_train, x_test, y_train, y_test = train_test_split(x, y, test_size=0.2, random_state=42, shuffle=True, stratify=y)\n"
   ]
  },
  {
   "cell_type": "code",
   "execution_count": 41,
   "metadata": {},
   "outputs": [
    {
     "data": {
      "text/plain": [
       "((22272, 50), (22272,))"
      ]
     },
     "execution_count": 41,
     "metadata": {},
     "output_type": "execute_result"
    }
   ],
   "source": [
    "x_train.shape, y_train.shape"
   ]
  },
  {
   "cell_type": "code",
   "execution_count": 42,
   "metadata": {},
   "outputs": [
    {
     "data": {
      "text/plain": [
       "((5569, 50), (5569,))"
      ]
     },
     "execution_count": 42,
     "metadata": {},
     "output_type": "execute_result"
    }
   ],
   "source": [
    "x_test.shape, y_test.shape"
   ]
  },
  {
   "cell_type": "markdown",
   "metadata": {},
   "source": [
    "Xây dựng mô hình Hồi quy tuyến tính"
   ]
  },
  {
   "cell_type": "code",
   "execution_count": 44,
   "metadata": {},
   "outputs": [
    {
     "data": {
      "text/html": [
       "<style>#sk-container-id-3 {color: black;background-color: white;}#sk-container-id-3 pre{padding: 0;}#sk-container-id-3 div.sk-toggleable {background-color: white;}#sk-container-id-3 label.sk-toggleable__label {cursor: pointer;display: block;width: 100%;margin-bottom: 0;padding: 0.3em;box-sizing: border-box;text-align: center;}#sk-container-id-3 label.sk-toggleable__label-arrow:before {content: \"▸\";float: left;margin-right: 0.25em;color: #696969;}#sk-container-id-3 label.sk-toggleable__label-arrow:hover:before {color: black;}#sk-container-id-3 div.sk-estimator:hover label.sk-toggleable__label-arrow:before {color: black;}#sk-container-id-3 div.sk-toggleable__content {max-height: 0;max-width: 0;overflow: hidden;text-align: left;background-color: #f0f8ff;}#sk-container-id-3 div.sk-toggleable__content pre {margin: 0.2em;color: black;border-radius: 0.25em;background-color: #f0f8ff;}#sk-container-id-3 input.sk-toggleable__control:checked~div.sk-toggleable__content {max-height: 200px;max-width: 100%;overflow: auto;}#sk-container-id-3 input.sk-toggleable__control:checked~label.sk-toggleable__label-arrow:before {content: \"▾\";}#sk-container-id-3 div.sk-estimator input.sk-toggleable__control:checked~label.sk-toggleable__label {background-color: #d4ebff;}#sk-container-id-3 div.sk-label input.sk-toggleable__control:checked~label.sk-toggleable__label {background-color: #d4ebff;}#sk-container-id-3 input.sk-hidden--visually {border: 0;clip: rect(1px 1px 1px 1px);clip: rect(1px, 1px, 1px, 1px);height: 1px;margin: -1px;overflow: hidden;padding: 0;position: absolute;width: 1px;}#sk-container-id-3 div.sk-estimator {font-family: monospace;background-color: #f0f8ff;border: 1px dotted black;border-radius: 0.25em;box-sizing: border-box;margin-bottom: 0.5em;}#sk-container-id-3 div.sk-estimator:hover {background-color: #d4ebff;}#sk-container-id-3 div.sk-parallel-item::after {content: \"\";width: 100%;border-bottom: 1px solid gray;flex-grow: 1;}#sk-container-id-3 div.sk-label:hover label.sk-toggleable__label {background-color: #d4ebff;}#sk-container-id-3 div.sk-serial::before {content: \"\";position: absolute;border-left: 1px solid gray;box-sizing: border-box;top: 0;bottom: 0;left: 50%;z-index: 0;}#sk-container-id-3 div.sk-serial {display: flex;flex-direction: column;align-items: center;background-color: white;padding-right: 0.2em;padding-left: 0.2em;position: relative;}#sk-container-id-3 div.sk-item {position: relative;z-index: 1;}#sk-container-id-3 div.sk-parallel {display: flex;align-items: stretch;justify-content: center;background-color: white;position: relative;}#sk-container-id-3 div.sk-item::before, #sk-container-id-3 div.sk-parallel-item::before {content: \"\";position: absolute;border-left: 1px solid gray;box-sizing: border-box;top: 0;bottom: 0;left: 50%;z-index: -1;}#sk-container-id-3 div.sk-parallel-item {display: flex;flex-direction: column;z-index: 1;position: relative;background-color: white;}#sk-container-id-3 div.sk-parallel-item:first-child::after {align-self: flex-end;width: 50%;}#sk-container-id-3 div.sk-parallel-item:last-child::after {align-self: flex-start;width: 50%;}#sk-container-id-3 div.sk-parallel-item:only-child::after {width: 0;}#sk-container-id-3 div.sk-dashed-wrapped {border: 1px dashed gray;margin: 0 0.4em 0.5em 0.4em;box-sizing: border-box;padding-bottom: 0.4em;background-color: white;}#sk-container-id-3 div.sk-label label {font-family: monospace;font-weight: bold;display: inline-block;line-height: 1.2em;}#sk-container-id-3 div.sk-label-container {text-align: center;}#sk-container-id-3 div.sk-container {/* jupyter's `normalize.less` sets `[hidden] { display: none; }` but bootstrap.min.css set `[hidden] { display: none !important; }` so we also need the `!important` here to be able to override the default hidden behavior on the sphinx rendered scikit-learn.org. See: https://github.com/scikit-learn/scikit-learn/issues/21755 */display: inline-block !important;position: relative;}#sk-container-id-3 div.sk-text-repr-fallback {display: none;}</style><div id=\"sk-container-id-3\" class=\"sk-top-container\"><div class=\"sk-text-repr-fallback\"><pre>RandomForestRegressor(n_estimators=50, random_state=42)</pre><b>In a Jupyter environment, please rerun this cell to show the HTML representation or trust the notebook. <br />On GitHub, the HTML representation is unable to render, please try loading this page with nbviewer.org.</b></div><div class=\"sk-container\" hidden><div class=\"sk-item\"><div class=\"sk-estimator sk-toggleable\"><input class=\"sk-toggleable__control sk-hidden--visually\" id=\"sk-estimator-id-3\" type=\"checkbox\" checked><label for=\"sk-estimator-id-3\" class=\"sk-toggleable__label sk-toggleable__label-arrow\">RandomForestRegressor</label><div class=\"sk-toggleable__content\"><pre>RandomForestRegressor(n_estimators=50, random_state=42)</pre></div></div></div></div></div>"
      ],
      "text/plain": [
       "RandomForestRegressor(n_estimators=50, random_state=42)"
      ]
     },
     "execution_count": 44,
     "metadata": {},
     "output_type": "execute_result"
    }
   ],
   "source": [
    "from sklearn.linear_model import LinearRegression, LogisticRegression\n",
    "from sklearn.ensemble import RandomForestRegressor\n",
    "# model = LinearRegression()\n",
    "model1 = RandomForestRegressor(n_estimators=50, random_state=42)\n",
    "model1.fit(x_train, y_train)"
   ]
  },
  {
   "cell_type": "code",
   "execution_count": 45,
   "metadata": {},
   "outputs": [],
   "source": [
    "score_test = model1.score(x_test, y_test)"
   ]
  },
  {
   "cell_type": "code",
   "execution_count": 46,
   "metadata": {},
   "outputs": [
    {
     "data": {
      "text/plain": [
       "0.9915670440913001"
      ]
     },
     "execution_count": 46,
     "metadata": {},
     "output_type": "execute_result"
    }
   ],
   "source": [
    "score_test"
   ]
  },
  {
   "cell_type": "code",
   "execution_count": 52,
   "metadata": {},
   "outputs": [],
   "source": [
    "from sklearn.metrics import mean_squared_error, mean_absolute_error, r2_score\n",
    "y_pred = model1.predict(x_test)\n",
    "\n",
    "# Tính toán MSE\n",
    "mse = mean_squared_error(y_test, y_pred)\n",
    "\n",
    "# Tính toán MAE\n",
    "mae = mean_absolute_error(y_test, y_pred)\n",
    "\n",
    "# Tính toán R-squared score\n",
    "r_squared = r2_score(y_test, y_pred)"
   ]
  },
  {
   "cell_type": "code",
   "execution_count": 53,
   "metadata": {},
   "outputs": [
    {
     "name": "stdout",
     "output_type": "stream",
     "text": [
      "MSE:  5603.266472759921\n",
      "MAE:  29.694541210271137\n",
      "R_squared:  0.9915670440913001\n"
     ]
    }
   ],
   "source": [
    "print('MSE: ', mse)\n",
    "print('MAE: ', mae)\n",
    "print('R_squared: ', r_squared)"
   ]
  },
  {
   "cell_type": "code",
   "execution_count": 84,
   "metadata": {},
   "outputs": [],
   "source": [
    "def plot_regression_results(y_test, y_pred):\n",
    "    plt.figure(figsize=(10, 6))\n",
    "    plt.scatter(y_test[:round(len(y_test)/4)], y_pred[:round(len(y_test)/4)], color='blue', alpha=0.5)\n",
    "    plt.plot([min(y_test[:round(len(y_test)/4)]), max(y_test[:round(len(y_test)/4)])], [min(y_test[:round(len(y_test)/4)]), max(y_test[:round(len(y_test)/4)])], color='red', linestyle='--')\n",
    "    plt.title('Actual vs Predicted')\n",
    "    plt.xlabel('Actual')\n",
    "    plt.ylabel('Predicted')\n",
    "    plt.show()"
   ]
  },
  {
   "cell_type": "code",
   "execution_count": 85,
   "metadata": {},
   "outputs": [
    {
     "data": {
      "image/png": "[encoded data removed]",
      "text/plain": [
       "<Figure size 1000x600 with 1 Axes>"
      ]
     },
     "metadata": {},
     "output_type": "display_data"
    }
   ],
   "source": [
    "plot_regression_results(y_test, y_pred)"
   ]
  },
  {
   "cell_type": "code",
   "execution_count": 86,
   "metadata": {},
   "outputs": [
    {
     "name": "stderr",
     "output_type": "stream",
     "text": [
      "f:\\Anaconda\\envs\\torch-env\\Lib\\site-packages\\sklearn\\base.py:439: UserWarning: X does not have valid feature names, but RandomForestRegressor was fitted with feature names\n",
      "  warnings.warn(\n"
     ]
    },
    {
     "name": "stdout",
     "output_type": "stream",
     "text": [
      "Giá trị dự đoán:  1356\n",
      "Giá trị thực tế:  1355\n"
     ]
    }
   ],
   "source": [
    "import random as rd\n",
    "number_test = rd.randint(0, x_test.shape[0])\n",
    "x_new = x_test.iloc[number_test]\n",
    "y_new = y_test.iloc[number_test]\n",
    "x_new = np.expand_dims(x_new, axis=0)\n",
    "y_predict = model1.predict(x_new)\n",
    "print(\"Giá trị dự đoán: \", round(y_predict[0]))\n",
    "print(\"Giá trị thực tế: \", y_new)"
   ]
  }
 ],
 "metadata": {
  "kernelspec": {
   "display_name": "Python 3",
   "language": "python",
   "name": "python3"
  },
  "language_info": {
   "codemirror_mode": {
    "name": "ipython",
    "version": 3
   },
   "file_extension": ".py",
   "mimetype": "text/x-python",
   "name": "python",
   "nbconvert_exporter": "python",
   "pygments_lexer": "ipython3",
   "version": "3.11.7"
  }
 },
 "nbformat": 4,
 "nbformat_minor": 2
}
